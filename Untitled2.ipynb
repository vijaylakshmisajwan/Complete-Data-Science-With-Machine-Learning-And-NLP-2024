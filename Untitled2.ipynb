{
  "nbformat": 4,
  "nbformat_minor": 0,
  "metadata": {
    "colab": {
      "provenance": [],
      "authorship_tag": "ABX9TyNjh9W6KV89jeixVv8IlZmY",
      "include_colab_link": true
    },
    "kernelspec": {
      "name": "python3",
      "display_name": "Python 3"
    },
    "language_info": {
      "name": "python"
    }
  },
  "cells": [
    {
      "cell_type": "markdown",
      "metadata": {
        "id": "view-in-github",
        "colab_type": "text"
      },
      "source": [
        "<a href=\"https://colab.research.google.com/github/vijaylakshmisajwan/Complete-Data-Science-With-Machine-Learning-And-NLP-2024/blob/main/Untitled2.ipynb\" target=\"_parent\"><img src=\"https://colab.research.google.com/assets/colab-badge.svg\" alt=\"Open In Colab\"/></a>"
      ]
    },
    {
      "cell_type": "code",
      "execution_count": 1,
      "metadata": {
        "colab": {
          "base_uri": "https://localhost:8080/"
        },
        "id": "zAOrk5DiY6Pq",
        "outputId": "116fd3aa-eded-41d8-e954-07f4b158495d"
      },
      "outputs": [
        {
          "output_type": "stream",
          "name": "stdout",
          "text": [
            "Requirement already satisfied: torchvision in /usr/local/lib/python3.11/dist-packages (0.20.1+cu124)\n",
            "Requirement already satisfied: numpy in /usr/local/lib/python3.11/dist-packages (from torchvision) (1.26.4)\n",
            "Requirement already satisfied: torch==2.5.1 in /usr/local/lib/python3.11/dist-packages (from torchvision) (2.5.1+cu124)\n",
            "Requirement already satisfied: pillow!=8.3.*,>=5.3.0 in /usr/local/lib/python3.11/dist-packages (from torchvision) (11.1.0)\n",
            "Requirement already satisfied: filelock in /usr/local/lib/python3.11/dist-packages (from torch==2.5.1->torchvision) (3.17.0)\n",
            "Requirement already satisfied: typing-extensions>=4.8.0 in /usr/local/lib/python3.11/dist-packages (from torch==2.5.1->torchvision) (4.12.2)\n",
            "Requirement already satisfied: networkx in /usr/local/lib/python3.11/dist-packages (from torch==2.5.1->torchvision) (3.4.2)\n",
            "Requirement already satisfied: jinja2 in /usr/local/lib/python3.11/dist-packages (from torch==2.5.1->torchvision) (3.1.5)\n",
            "Requirement already satisfied: fsspec in /usr/local/lib/python3.11/dist-packages (from torch==2.5.1->torchvision) (2024.10.0)\n",
            "Collecting nvidia-cuda-nvrtc-cu12==12.4.127 (from torch==2.5.1->torchvision)\n",
            "  Downloading nvidia_cuda_nvrtc_cu12-12.4.127-py3-none-manylinux2014_x86_64.whl.metadata (1.5 kB)\n",
            "Collecting nvidia-cuda-runtime-cu12==12.4.127 (from torch==2.5.1->torchvision)\n",
            "  Downloading nvidia_cuda_runtime_cu12-12.4.127-py3-none-manylinux2014_x86_64.whl.metadata (1.5 kB)\n",
            "Collecting nvidia-cuda-cupti-cu12==12.4.127 (from torch==2.5.1->torchvision)\n",
            "  Downloading nvidia_cuda_cupti_cu12-12.4.127-py3-none-manylinux2014_x86_64.whl.metadata (1.6 kB)\n",
            "Collecting nvidia-cudnn-cu12==9.1.0.70 (from torch==2.5.1->torchvision)\n",
            "  Downloading nvidia_cudnn_cu12-9.1.0.70-py3-none-manylinux2014_x86_64.whl.metadata (1.6 kB)\n",
            "Collecting nvidia-cublas-cu12==12.4.5.8 (from torch==2.5.1->torchvision)\n",
            "  Downloading nvidia_cublas_cu12-12.4.5.8-py3-none-manylinux2014_x86_64.whl.metadata (1.5 kB)\n",
            "Collecting nvidia-cufft-cu12==11.2.1.3 (from torch==2.5.1->torchvision)\n",
            "  Downloading nvidia_cufft_cu12-11.2.1.3-py3-none-manylinux2014_x86_64.whl.metadata (1.5 kB)\n",
            "Collecting nvidia-curand-cu12==10.3.5.147 (from torch==2.5.1->torchvision)\n",
            "  Downloading nvidia_curand_cu12-10.3.5.147-py3-none-manylinux2014_x86_64.whl.metadata (1.5 kB)\n",
            "Collecting nvidia-cusolver-cu12==11.6.1.9 (from torch==2.5.1->torchvision)\n",
            "  Downloading nvidia_cusolver_cu12-11.6.1.9-py3-none-manylinux2014_x86_64.whl.metadata (1.6 kB)\n",
            "Collecting nvidia-cusparse-cu12==12.3.1.170 (from torch==2.5.1->torchvision)\n",
            "  Downloading nvidia_cusparse_cu12-12.3.1.170-py3-none-manylinux2014_x86_64.whl.metadata (1.6 kB)\n",
            "Requirement already satisfied: nvidia-nccl-cu12==2.21.5 in /usr/local/lib/python3.11/dist-packages (from torch==2.5.1->torchvision) (2.21.5)\n",
            "Requirement already satisfied: nvidia-nvtx-cu12==12.4.127 in /usr/local/lib/python3.11/dist-packages (from torch==2.5.1->torchvision) (12.4.127)\n",
            "Collecting nvidia-nvjitlink-cu12==12.4.127 (from torch==2.5.1->torchvision)\n",
            "  Downloading nvidia_nvjitlink_cu12-12.4.127-py3-none-manylinux2014_x86_64.whl.metadata (1.5 kB)\n",
            "Requirement already satisfied: triton==3.1.0 in /usr/local/lib/python3.11/dist-packages (from torch==2.5.1->torchvision) (3.1.0)\n",
            "Requirement already satisfied: sympy==1.13.1 in /usr/local/lib/python3.11/dist-packages (from torch==2.5.1->torchvision) (1.13.1)\n",
            "Requirement already satisfied: mpmath<1.4,>=1.1.0 in /usr/local/lib/python3.11/dist-packages (from sympy==1.13.1->torch==2.5.1->torchvision) (1.3.0)\n",
            "Requirement already satisfied: MarkupSafe>=2.0 in /usr/local/lib/python3.11/dist-packages (from jinja2->torch==2.5.1->torchvision) (3.0.2)\n",
            "Downloading nvidia_cublas_cu12-12.4.5.8-py3-none-manylinux2014_x86_64.whl (363.4 MB)\n",
            "\u001b[2K   \u001b[90m━━━━━━━━━━━━━━━━━━━━━━━━━━━━━━━━━━━━━━━━\u001b[0m \u001b[32m363.4/363.4 MB\u001b[0m \u001b[31m4.1 MB/s\u001b[0m eta \u001b[36m0:00:00\u001b[0m\n",
            "\u001b[?25hDownloading nvidia_cuda_cupti_cu12-12.4.127-py3-none-manylinux2014_x86_64.whl (13.8 MB)\n",
            "\u001b[2K   \u001b[90m━━━━━━━━━━━━━━━━━━━━━━━━━━━━━━━━━━━━━━━━\u001b[0m \u001b[32m13.8/13.8 MB\u001b[0m \u001b[31m57.5 MB/s\u001b[0m eta \u001b[36m0:00:00\u001b[0m\n",
            "\u001b[?25hDownloading nvidia_cuda_nvrtc_cu12-12.4.127-py3-none-manylinux2014_x86_64.whl (24.6 MB)\n",
            "\u001b[2K   \u001b[90m━━━━━━━━━━━━━━━━━━━━━━━━━━━━━━━━━━━━━━━━\u001b[0m \u001b[32m24.6/24.6 MB\u001b[0m \u001b[31m32.2 MB/s\u001b[0m eta \u001b[36m0:00:00\u001b[0m\n",
            "\u001b[?25hDownloading nvidia_cuda_runtime_cu12-12.4.127-py3-none-manylinux2014_x86_64.whl (883 kB)\n",
            "\u001b[2K   \u001b[90m━━━━━━━━━━━━━━━━━━━━━━━━━━━━━━━━━━━━━━━━\u001b[0m \u001b[32m883.7/883.7 kB\u001b[0m \u001b[31m36.4 MB/s\u001b[0m eta \u001b[36m0:00:00\u001b[0m\n",
            "\u001b[?25hDownloading nvidia_cudnn_cu12-9.1.0.70-py3-none-manylinux2014_x86_64.whl (664.8 MB)\n",
            "\u001b[2K   \u001b[90m━━━━━━━━━━━━━━━━━━━━━━━━━━━━━━━━━━━━━━━━\u001b[0m \u001b[32m664.8/664.8 MB\u001b[0m \u001b[31m2.5 MB/s\u001b[0m eta \u001b[36m0:00:00\u001b[0m\n",
            "\u001b[?25hDownloading nvidia_cufft_cu12-11.2.1.3-py3-none-manylinux2014_x86_64.whl (211.5 MB)\n",
            "\u001b[2K   \u001b[90m━━━━━━━━━━━━━━━━━━━━━━━━━━━━━━━━━━━━━━━━\u001b[0m \u001b[32m211.5/211.5 MB\u001b[0m \u001b[31m6.2 MB/s\u001b[0m eta \u001b[36m0:00:00\u001b[0m\n",
            "\u001b[?25hDownloading nvidia_curand_cu12-10.3.5.147-py3-none-manylinux2014_x86_64.whl (56.3 MB)\n",
            "\u001b[2K   \u001b[90m━━━━━━━━━━━━━━━━━━━━━━━━━━━━━━━━━━━━━━━━\u001b[0m \u001b[32m56.3/56.3 MB\u001b[0m \u001b[31m8.6 MB/s\u001b[0m eta \u001b[36m0:00:00\u001b[0m\n",
            "\u001b[?25hDownloading nvidia_cusolver_cu12-11.6.1.9-py3-none-manylinux2014_x86_64.whl (127.9 MB)\n",
            "\u001b[2K   \u001b[90m━━━━━━━━━━━━━━━━━━━━━━━━━━━━━━━━━━━━━━━━\u001b[0m \u001b[32m127.9/127.9 MB\u001b[0m \u001b[31m7.6 MB/s\u001b[0m eta \u001b[36m0:00:00\u001b[0m\n",
            "\u001b[?25hDownloading nvidia_cusparse_cu12-12.3.1.170-py3-none-manylinux2014_x86_64.whl (207.5 MB)\n",
            "\u001b[2K   \u001b[90m━━━━━━━━━━━━━━━━━━━━━━━━━━━━━━━━━━━━━━━━\u001b[0m \u001b[32m207.5/207.5 MB\u001b[0m \u001b[31m6.2 MB/s\u001b[0m eta \u001b[36m0:00:00\u001b[0m\n",
            "\u001b[?25hDownloading nvidia_nvjitlink_cu12-12.4.127-py3-none-manylinux2014_x86_64.whl (21.1 MB)\n",
            "\u001b[2K   \u001b[90m━━━━━━━━━━━━━━━━━━━━━━━━━━━━━━━━━━━━━━━━\u001b[0m \u001b[32m21.1/21.1 MB\u001b[0m \u001b[31m53.3 MB/s\u001b[0m eta \u001b[36m0:00:00\u001b[0m\n",
            "\u001b[?25hInstalling collected packages: nvidia-nvjitlink-cu12, nvidia-curand-cu12, nvidia-cufft-cu12, nvidia-cuda-runtime-cu12, nvidia-cuda-nvrtc-cu12, nvidia-cuda-cupti-cu12, nvidia-cublas-cu12, nvidia-cusparse-cu12, nvidia-cudnn-cu12, nvidia-cusolver-cu12\n",
            "  Attempting uninstall: nvidia-nvjitlink-cu12\n",
            "    Found existing installation: nvidia-nvjitlink-cu12 12.5.82\n",
            "    Uninstalling nvidia-nvjitlink-cu12-12.5.82:\n",
            "      Successfully uninstalled nvidia-nvjitlink-cu12-12.5.82\n",
            "  Attempting uninstall: nvidia-curand-cu12\n",
            "    Found existing installation: nvidia-curand-cu12 10.3.6.82\n",
            "    Uninstalling nvidia-curand-cu12-10.3.6.82:\n",
            "      Successfully uninstalled nvidia-curand-cu12-10.3.6.82\n",
            "  Attempting uninstall: nvidia-cufft-cu12\n",
            "    Found existing installation: nvidia-cufft-cu12 11.2.3.61\n",
            "    Uninstalling nvidia-cufft-cu12-11.2.3.61:\n",
            "      Successfully uninstalled nvidia-cufft-cu12-11.2.3.61\n",
            "  Attempting uninstall: nvidia-cuda-runtime-cu12\n",
            "    Found existing installation: nvidia-cuda-runtime-cu12 12.5.82\n",
            "    Uninstalling nvidia-cuda-runtime-cu12-12.5.82:\n",
            "      Successfully uninstalled nvidia-cuda-runtime-cu12-12.5.82\n",
            "  Attempting uninstall: nvidia-cuda-nvrtc-cu12\n",
            "    Found existing installation: nvidia-cuda-nvrtc-cu12 12.5.82\n",
            "    Uninstalling nvidia-cuda-nvrtc-cu12-12.5.82:\n",
            "      Successfully uninstalled nvidia-cuda-nvrtc-cu12-12.5.82\n",
            "  Attempting uninstall: nvidia-cuda-cupti-cu12\n",
            "    Found existing installation: nvidia-cuda-cupti-cu12 12.5.82\n",
            "    Uninstalling nvidia-cuda-cupti-cu12-12.5.82:\n",
            "      Successfully uninstalled nvidia-cuda-cupti-cu12-12.5.82\n",
            "  Attempting uninstall: nvidia-cublas-cu12\n",
            "    Found existing installation: nvidia-cublas-cu12 12.5.3.2\n",
            "    Uninstalling nvidia-cublas-cu12-12.5.3.2:\n",
            "      Successfully uninstalled nvidia-cublas-cu12-12.5.3.2\n",
            "  Attempting uninstall: nvidia-cusparse-cu12\n",
            "    Found existing installation: nvidia-cusparse-cu12 12.5.1.3\n",
            "    Uninstalling nvidia-cusparse-cu12-12.5.1.3:\n",
            "      Successfully uninstalled nvidia-cusparse-cu12-12.5.1.3\n",
            "  Attempting uninstall: nvidia-cudnn-cu12\n",
            "    Found existing installation: nvidia-cudnn-cu12 9.3.0.75\n",
            "    Uninstalling nvidia-cudnn-cu12-9.3.0.75:\n",
            "      Successfully uninstalled nvidia-cudnn-cu12-9.3.0.75\n",
            "  Attempting uninstall: nvidia-cusolver-cu12\n",
            "    Found existing installation: nvidia-cusolver-cu12 11.6.3.83\n",
            "    Uninstalling nvidia-cusolver-cu12-11.6.3.83:\n",
            "      Successfully uninstalled nvidia-cusolver-cu12-11.6.3.83\n",
            "Successfully installed nvidia-cublas-cu12-12.4.5.8 nvidia-cuda-cupti-cu12-12.4.127 nvidia-cuda-nvrtc-cu12-12.4.127 nvidia-cuda-runtime-cu12-12.4.127 nvidia-cudnn-cu12-9.1.0.70 nvidia-cufft-cu12-11.2.1.3 nvidia-curand-cu12-10.3.5.147 nvidia-cusolver-cu12-11.6.1.9 nvidia-cusparse-cu12-12.3.1.170 nvidia-nvjitlink-cu12-12.4.127\n"
          ]
        }
      ],
      "source": [
        "import torch\n",
        "!pip install torchvision\n"
      ]
    },
    {
      "cell_type": "code",
      "source": [
        "import torch\n",
        "import torch.nn as nn\n",
        "import torch.optim as optim\n",
        "import torch.nn.functional as F\n",
        "from torchvision import datasets, transforms\n",
        "from torch.utils.data import DataLoader\n"
      ],
      "metadata": {
        "id": "QBUZrQDJbjGr"
      },
      "execution_count": 3,
      "outputs": []
    },
    {
      "cell_type": "code",
      "source": [
        "class SimpleNN(nn.Module):\n",
        "    def __init__(self):\n",
        "        super(SimpleNN, self).__init__()\n",
        "        self.fc1 = nn.Linear(28*28, 128)  # Input layer (28x28 pixels), hidden layer with 128 neurons\n",
        "        self.fc2 = nn.Linear(128, 64)     # Hidden layer with 64 neurons\n",
        "        self.fc3 = nn.Linear(64, 10)      # Output layer (10 classes for digits 0-9)\n",
        "\n",
        "    def forward(self, x):\n",
        "        x = x.view(-1, 28*28)  # Flatten the 28x28 images into vectors\n",
        "        x = F.relu(self.fc1(x))\n",
        "        x = F.relu(self.fc2(x))\n",
        "        x = self.fc3(x)\n",
        "        return x"
      ],
      "metadata": {
        "id": "EySozWbJc6U1"
      },
      "execution_count": 6,
      "outputs": []
    },
    {
      "cell_type": "code",
      "source": [
        "# Data transformations: convert to tensor and normalize\n",
        "transform = transforms.Compose([\n",
        "    transforms.ToTensor(),\n",
        "    transforms.Normalize((0.5,), (0.5,))  # Normalize to [-1, 1] range\n",
        "])\n",
        "\n",
        "# Load datasets\n",
        "train_dataset = datasets.MNIST(root='./data', train=True, transform=transform, download=True)\n",
        "test_dataset = datasets.MNIST(root='./data', train=False, transform=transform, download=True)\n",
        "\n",
        "# Create data loaders\n",
        "train_loader = DataLoader(dataset=train_dataset, batch_size=64, shuffle=True)\n",
        "test_loader = DataLoader(dataset=test_dataset, batch_size=64, shuffle=False)\n",
        ""
      ],
      "metadata": {
        "id": "M-kOJMqCfJyl"
      },
      "execution_count": 10,
      "outputs": []
    },
    {
      "cell_type": "code",
      "source": [
        "class SimpleNN(nn.Module):\n",
        "    def __init__(self):\n",
        "        super(SimpleNN, self).__init__()\n",
        "        self.fc1 = nn.Linear(28*28, 128)  # Input layer (28x28 pixels), hidden layer with 128 neurons\n",
        "        self.fc2 = nn.Linear(128, 64)     # Hidden layer with 64 neurons\n",
        "        self.fc3 = nn.Linear(64, 10)      # Output layer (10 classes for digits 0-9)\n",
        "\n",
        "    def forward(self, x):\n",
        "        x = x.view(-1, 28*28)  # Flatten the 28x28 images into vectors\n",
        "        x = F.relu(self.fc1(x))\n",
        "        x = F.relu(self.fc2(x))\n",
        "        x = self.fc3(x)\n",
        "        return x"
      ],
      "metadata": {
        "id": "_S0A0SQpg9qw"
      },
      "execution_count": 13,
      "outputs": []
    },
    {
      "cell_type": "code",
      "source": [
        "# Model, loss function, and optimizer\n",
        "device = torch.device('cuda' if torch.cuda.is_available() else 'cpu')\n",
        "model = SimpleNN().to(device)\n",
        "criterion = nn.CrossEntropyLoss()\n",
        "optimizer = optim.SGD(model.parameters(), lr=0.01, momentum=0.9)\n",
        ""
      ],
      "metadata": {
        "id": "vjN0IivEiE-o"
      },
      "execution_count": 15,
      "outputs": []
    },
    {
      "cell_type": "code",
      "source": [
        "epochs = 5\n",
        "\n",
        "for epoch in range(epochs):\n",
        "    model.train()\n",
        "    running_loss = 0.0\n",
        "\n",
        "    for images, labels in train_loader:\n",
        "        images, labels = images.to(device), labels.to(device)\n",
        "\n",
        "        # Forward pass\n",
        "        outputs = model(images)\n",
        "        loss = criterion(outputs, labels)\n",
        "\n",
        "        # Backward pass and optimization\n",
        "        optimizer.zero_grad()\n",
        "        loss.backward()\n",
        "        optimizer.step()\n",
        "\n",
        "        running_loss += loss.item()\n",
        "\n",
        "    print(f'Epoch [{epoch+1}/{epochs}], Loss: {running_loss/len(train_loader):.4f}')\n",
        ""
      ],
      "metadata": {
        "colab": {
          "base_uri": "https://localhost:8080/"
        },
        "id": "Qg8O00CNitOA",
        "outputId": "d3a2e8cc-aedf-4c08-a714-ca6ef9475ef1"
      },
      "execution_count": 16,
      "outputs": [
        {
          "output_type": "stream",
          "name": "stdout",
          "text": [
            "Epoch [1/5], Loss: 0.4245\n",
            "Epoch [2/5], Loss: 0.1816\n",
            "Epoch [3/5], Loss: 0.1303\n",
            "Epoch [4/5], Loss: 0.1073\n",
            "Epoch [5/5], Loss: 0.0896\n"
          ]
        }
      ]
    },
    {
      "cell_type": "code",
      "source": [
        "model.eval()  # Set model to evaluation mode\n",
        "correct = 0\n",
        "total = 0\n",
        "with torch.no_grad():\n",
        "  for images, labels in test_loader:\n",
        "    images, labels = images.to(device), labels.to(device)\n",
        "    outputs = model(images)\n",
        "    _, predicted = torch.max(outputs.data, 1)\n",
        "    total += labels.size(0)\n",
        "    correct += (predicted == labels).sum().item()\n",
        "    print(f'Accuracy on the test set: {100 * correct / total:.2f}%')"
      ],
      "metadata": {
        "colab": {
          "base_uri": "https://localhost:8080/"
        },
        "id": "_Go9Ht63kDMK",
        "outputId": "ec3f2f57-0971-4657-e07e-16af1c9aad22"
      },
      "execution_count": 23,
      "outputs": [
        {
          "output_type": "stream",
          "name": "stdout",
          "text": [
            "Accuracy on the test set: 100.00%\n",
            "Accuracy on the test set: 100.00%\n",
            "Accuracy on the test set: 98.96%\n",
            "Accuracy on the test set: 98.83%\n",
            "Accuracy on the test set: 98.44%\n",
            "Accuracy on the test set: 97.92%\n",
            "Accuracy on the test set: 97.99%\n",
            "Accuracy on the test set: 97.85%\n",
            "Accuracy on the test set: 97.92%\n",
            "Accuracy on the test set: 97.66%\n",
            "Accuracy on the test set: 97.02%\n",
            "Accuracy on the test set: 97.01%\n",
            "Accuracy on the test set: 97.24%\n",
            "Accuracy on the test set: 97.21%\n",
            "Accuracy on the test set: 96.88%\n",
            "Accuracy on the test set: 96.78%\n",
            "Accuracy on the test set: 96.69%\n",
            "Accuracy on the test set: 96.70%\n",
            "Accuracy on the test set: 96.30%\n",
            "Accuracy on the test set: 96.02%\n",
            "Accuracy on the test set: 95.83%\n",
            "Accuracy on the test set: 95.74%\n",
            "Accuracy on the test set: 95.79%\n",
            "Accuracy on the test set: 95.64%\n",
            "Accuracy on the test set: 95.56%\n",
            "Accuracy on the test set: 95.67%\n",
            "Accuracy on the test set: 95.43%\n",
            "Accuracy on the test set: 95.42%\n",
            "Accuracy on the test set: 95.47%\n",
            "Accuracy on the test set: 95.47%\n",
            "Accuracy on the test set: 95.51%\n",
            "Accuracy on the test set: 95.31%\n",
            "Accuracy on the test set: 95.12%\n",
            "Accuracy on the test set: 95.08%\n",
            "Accuracy on the test set: 95.09%\n",
            "Accuracy on the test set: 95.14%\n",
            "Accuracy on the test set: 95.23%\n",
            "Accuracy on the test set: 95.02%\n",
            "Accuracy on the test set: 95.03%\n",
            "Accuracy on the test set: 95.08%\n",
            "Accuracy on the test set: 95.12%\n",
            "Accuracy on the test set: 95.16%\n",
            "Accuracy on the test set: 95.24%\n",
            "Accuracy on the test set: 95.31%\n",
            "Accuracy on the test set: 95.38%\n",
            "Accuracy on the test set: 95.35%\n",
            "Accuracy on the test set: 95.38%\n",
            "Accuracy on the test set: 95.48%\n",
            "Accuracy on the test set: 95.47%\n",
            "Accuracy on the test set: 95.53%\n",
            "Accuracy on the test set: 95.50%\n",
            "Accuracy on the test set: 95.58%\n",
            "Accuracy on the test set: 95.52%\n",
            "Accuracy on the test set: 95.57%\n",
            "Accuracy on the test set: 95.60%\n",
            "Accuracy on the test set: 95.51%\n",
            "Accuracy on the test set: 95.56%\n",
            "Accuracy on the test set: 95.55%\n",
            "Accuracy on the test set: 95.47%\n",
            "Accuracy on the test set: 95.44%\n",
            "Accuracy on the test set: 95.41%\n",
            "Accuracy on the test set: 95.44%\n",
            "Accuracy on the test set: 95.41%\n",
            "Accuracy on the test set: 95.39%\n",
            "Accuracy on the test set: 95.38%\n",
            "Accuracy on the test set: 95.38%\n",
            "Accuracy on the test set: 95.38%\n",
            "Accuracy on the test set: 95.43%\n",
            "Accuracy on the test set: 95.40%\n",
            "Accuracy on the test set: 95.42%\n",
            "Accuracy on the test set: 95.40%\n",
            "Accuracy on the test set: 95.36%\n",
            "Accuracy on the test set: 95.40%\n",
            "Accuracy on the test set: 95.44%\n",
            "Accuracy on the test set: 95.48%\n",
            "Accuracy on the test set: 95.48%\n",
            "Accuracy on the test set: 95.50%\n",
            "Accuracy on the test set: 95.49%\n",
            "Accuracy on the test set: 95.55%\n",
            "Accuracy on the test set: 95.61%\n",
            "Accuracy on the test set: 95.62%\n",
            "Accuracy on the test set: 95.67%\n",
            "Accuracy on the test set: 95.73%\n",
            "Accuracy on the test set: 95.76%\n",
            "Accuracy on the test set: 95.81%\n",
            "Accuracy on the test set: 95.82%\n",
            "Accuracy on the test set: 95.85%\n",
            "Accuracy on the test set: 95.86%\n",
            "Accuracy on the test set: 95.87%\n",
            "Accuracy on the test set: 95.85%\n",
            "Accuracy on the test set: 95.90%\n",
            "Accuracy on the test set: 95.84%\n",
            "Accuracy on the test set: 95.80%\n",
            "Accuracy on the test set: 95.78%\n",
            "Accuracy on the test set: 95.77%\n",
            "Accuracy on the test set: 95.82%\n",
            "Accuracy on the test set: 95.84%\n",
            "Accuracy on the test set: 95.89%\n",
            "Accuracy on the test set: 95.93%\n",
            "Accuracy on the test set: 95.97%\n",
            "Accuracy on the test set: 95.98%\n",
            "Accuracy on the test set: 96.00%\n",
            "Accuracy on the test set: 95.96%\n",
            "Accuracy on the test set: 95.93%\n",
            "Accuracy on the test set: 95.97%\n",
            "Accuracy on the test set: 95.99%\n",
            "Accuracy on the test set: 96.01%\n",
            "Accuracy on the test set: 96.05%\n",
            "Accuracy on the test set: 96.07%\n",
            "Accuracy on the test set: 96.11%\n",
            "Accuracy on the test set: 96.14%\n",
            "Accuracy on the test set: 96.16%\n",
            "Accuracy on the test set: 96.18%\n",
            "Accuracy on the test set: 96.20%\n",
            "Accuracy on the test set: 96.24%\n",
            "Accuracy on the test set: 96.27%\n",
            "Accuracy on the test set: 96.29%\n",
            "Accuracy on the test set: 96.32%\n",
            "Accuracy on the test set: 96.34%\n",
            "Accuracy on the test set: 96.37%\n",
            "Accuracy on the test set: 96.40%\n",
            "Accuracy on the test set: 96.43%\n",
            "Accuracy on the test set: 96.46%\n",
            "Accuracy on the test set: 96.46%\n",
            "Accuracy on the test set: 96.49%\n",
            "Accuracy on the test set: 96.50%\n",
            "Accuracy on the test set: 96.52%\n",
            "Accuracy on the test set: 96.53%\n",
            "Accuracy on the test set: 96.54%\n",
            "Accuracy on the test set: 96.53%\n",
            "Accuracy on the test set: 96.53%\n",
            "Accuracy on the test set: 96.54%\n",
            "Accuracy on the test set: 96.57%\n",
            "Accuracy on the test set: 96.56%\n",
            "Accuracy on the test set: 96.59%\n",
            "Accuracy on the test set: 96.61%\n",
            "Accuracy on the test set: 96.64%\n",
            "Accuracy on the test set: 96.66%\n",
            "Accuracy on the test set: 96.68%\n",
            "Accuracy on the test set: 96.71%\n",
            "Accuracy on the test set: 96.71%\n",
            "Accuracy on the test set: 96.73%\n",
            "Accuracy on the test set: 96.75%\n",
            "Accuracy on the test set: 96.78%\n",
            "Accuracy on the test set: 96.80%\n",
            "Accuracy on the test set: 96.80%\n",
            "Accuracy on the test set: 96.82%\n",
            "Accuracy on the test set: 96.83%\n",
            "Accuracy on the test set: 96.82%\n",
            "Accuracy on the test set: 96.83%\n",
            "Accuracy on the test set: 96.83%\n",
            "Accuracy on the test set: 96.82%\n",
            "Accuracy on the test set: 96.76%\n",
            "Accuracy on the test set: 96.75%\n",
            "Accuracy on the test set: 96.73%\n",
            "Accuracy on the test set: 96.73%\n",
            "Accuracy on the test set: 96.74%\n"
          ]
        }
      ]
    },
    {
      "cell_type": "code",
      "source": [],
      "metadata": {
        "id": "sCiCbKajmDhc"
      },
      "execution_count": null,
      "outputs": []
    },
    {
      "cell_type": "code",
      "source": [],
      "metadata": {
        "id": "PtHdnMhSmF6P"
      },
      "execution_count": null,
      "outputs": []
    },
    {
      "cell_type": "code",
      "source": [
        "import matplotlib.pyplot as plt\n",
        "\n",
        "# Get some test images\n",
        "dataiter = iter(test_loader)\n",
        "images, labels = next(dataiter)\n",
        "images, labels = images.to(device), labels.to(device)\n",
        "\n",
        "# Predict\n",
        "outputs = model(images)\n",
        "_, predictions = torch.max(outputs, 1)\n",
        "\n",
        "# Display images and predictions\n",
        "fig, axes = plt.subplots(1, 6, figsize=(10, 4))\n",
        "for i in range(6):\n",
        "    ax = axes[i]\n",
        "    ax.imshow(images[i].cpu().numpy().squeeze(), cmap='gray')\n",
        "    ax.set_title(f'Pred: {predictions[i].item()}')\n",
        "    ax.axis('off')\n",
        "\n",
        "plt.show()"
      ],
      "metadata": {
        "colab": {
          "base_uri": "https://localhost:8080/",
          "height": 170
        },
        "id": "EQrmbdk-kmSu",
        "outputId": "f6422156-aa76-4417-bce6-d93b88e122ea"
      },
      "execution_count": 20,
      "outputs": [
        {
          "output_type": "display_data",
          "data": {
            "text/plain": [
              "<Figure size 1000x400 with 6 Axes>"
            ],
            "image/png": "[encoded data removed]"
          },
          "metadata": {}
        }
      ]
    },
    {
      "cell_type": "code",
      "source": [
        "torch.save(model.state_dict(),'mnist_simple_nn.pth')\n",
        "print(\"Model saved\")"
      ],
      "metadata": {
        "colab": {
          "base_uri": "https://localhost:8080/"
        },
        "id": "FP6BMT6smKSW",
        "outputId": "2da4e30c-fa8d-4104-fa4e-54f6cb4999c6"
      },
      "execution_count": 24,
      "outputs": [
        {
          "output_type": "stream",
          "name": "stdout",
          "text": [
            "Model saved\n"
          ]
        }
      ]
    }
  ]
}